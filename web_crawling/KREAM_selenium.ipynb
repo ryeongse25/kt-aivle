{
 "cells": [
  {
   "cell_type": "markdown",
   "id": "d00a5d7b-8162-4151-9844-cd16740e9a6e",
   "metadata": {},
   "source": [
    "## KREAM 여성 신발 인기 순위 TOP 100"
   ]
  },
  {
   "cell_type": "code",
   "execution_count": 21,
   "id": "fc841d2d-1935-40b4-a736-8600893c1592",
   "metadata": {
    "tags": []
   },
   "outputs": [
    {
     "name": "stdout",
     "output_type": "stream",
     "text": [
      "Requirement already satisfied: selenium in c:\\users\\user\\anaconda3\\lib\\site-packages (4.18.1)\n",
      "Requirement already satisfied: urllib3[socks]<3,>=1.26 in c:\\users\\user\\anaconda3\\lib\\site-packages (from selenium) (1.26.16)\n",
      "Requirement already satisfied: trio~=0.17 in c:\\users\\user\\anaconda3\\lib\\site-packages (from selenium) (0.24.0)\n",
      "Requirement already satisfied: trio-websocket~=0.9 in c:\\users\\user\\anaconda3\\lib\\site-packages (from selenium) (0.11.1)\n",
      "Requirement already satisfied: certifi>=2021.10.8 in c:\\users\\user\\anaconda3\\lib\\site-packages (from selenium) (2023.11.17)\n",
      "Requirement already satisfied: typing_extensions>=4.9.0 in c:\\users\\user\\anaconda3\\lib\\site-packages (from selenium) (4.10.0)\n",
      "Requirement already satisfied: attrs>=20.1.0 in c:\\users\\user\\anaconda3\\lib\\site-packages (from trio~=0.17->selenium) (22.1.0)\n",
      "Requirement already satisfied: sortedcontainers in c:\\users\\user\\anaconda3\\lib\\site-packages (from trio~=0.17->selenium) (2.4.0)\n",
      "Requirement already satisfied: idna in c:\\users\\user\\anaconda3\\lib\\site-packages (from trio~=0.17->selenium) (3.4)\n",
      "Requirement already satisfied: outcome in c:\\users\\user\\anaconda3\\lib\\site-packages (from trio~=0.17->selenium) (1.3.0.post0)\n",
      "Requirement already satisfied: sniffio>=1.3.0 in c:\\users\\user\\anaconda3\\lib\\site-packages (from trio~=0.17->selenium) (1.3.1)\n",
      "Requirement already satisfied: cffi>=1.14 in c:\\users\\user\\anaconda3\\lib\\site-packages (from trio~=0.17->selenium) (1.15.1)\n",
      "Requirement already satisfied: wsproto>=0.14 in c:\\users\\user\\anaconda3\\lib\\site-packages (from trio-websocket~=0.9->selenium) (1.2.0)\n",
      "Requirement already satisfied: PySocks!=1.5.7,<2.0,>=1.5.6 in c:\\users\\user\\anaconda3\\lib\\site-packages (from urllib3[socks]<3,>=1.26->selenium) (1.7.1)\n",
      "Requirement already satisfied: pycparser in c:\\users\\user\\anaconda3\\lib\\site-packages (from cffi>=1.14->trio~=0.17->selenium) (2.21)\n",
      "Requirement already satisfied: h11<1,>=0.9.0 in c:\\users\\user\\anaconda3\\lib\\site-packages (from wsproto>=0.14->trio-websocket~=0.9->selenium) (0.14.0)\n"
     ]
    }
   ],
   "source": [
    "!pip install selenium"
   ]
  },
  {
   "cell_type": "code",
   "execution_count": 1,
   "id": "c77800b5-abf5-42cf-ab08-f8cc2f607fb3",
   "metadata": {
    "tags": []
   },
   "outputs": [],
   "source": [
    "# 라이브러리 로딩\n",
    "\n",
    "import pandas as pd\n",
    "\n",
    "from selenium import webdriver\n",
    "from selenium.webdriver.common.by import By"
   ]
  },
  {
   "cell_type": "code",
   "execution_count": 2,
   "id": "f5963229-cffa-4f56-a836-bd6f16bed0a3",
   "metadata": {
    "tags": []
   },
   "outputs": [],
   "source": [
    "# 여성 신발 인기 순위 페이지\n",
    "\n",
    "driver = webdriver.Chrome()\n",
    "driver.get('https://kream.co.kr/exhibitions/2488')"
   ]
  },
  {
   "cell_type": "code",
   "execution_count": 3,
   "id": "230b0bc2-aa9c-4aad-9b9f-cdb75bf4dd31",
   "metadata": {
    "tags": []
   },
   "outputs": [
    {
     "data": {
      "text/plain": [
       "100"
      ]
     },
     "execution_count": 3,
     "metadata": {},
     "output_type": "execute_result"
    }
   ],
   "source": [
    "# 아이템 100개 가져오기\n",
    "\n",
    "items = driver.find_elements(By.CSS_SELECTOR, '.product_card')\n",
    "len(items)"
   ]
  },
  {
   "cell_type": "code",
   "execution_count": 4,
   "id": "ea4617ca-3f8a-43c9-822d-6352e635de4b",
   "metadata": {
    "tags": []
   },
   "outputs": [
    {
     "data": {
      "text/plain": [
       "'Adidas'"
      ]
     },
     "execution_count": 4,
     "metadata": {},
     "output_type": "execute_result"
    }
   ],
   "source": [
    "# brand\n",
    "\n",
    "items[0].find_element(By.CSS_SELECTOR, '.brand').text"
   ]
  },
  {
   "cell_type": "code",
   "execution_count": 5,
   "id": "0f564d03-2cf3-490d-b96e-3e7bf39cc8de",
   "metadata": {
    "tags": []
   },
   "outputs": [
    {
     "data": {
      "text/plain": [
       "'(W) 아디다스 포럼 로우 클라우드 화이트 팬톤'"
      ]
     },
     "execution_count": 5,
     "metadata": {},
     "output_type": "execute_result"
    }
   ],
   "source": [
    "# name\n",
    "\n",
    "items[0].find_element(By.CSS_SELECTOR, '.translated_name').text"
   ]
  },
  {
   "cell_type": "code",
   "execution_count": 6,
   "id": "70fc676e-e7f7-4aac-bd78-c40bd198f6de",
   "metadata": {
    "tags": []
   },
   "outputs": [
    {
     "data": {
      "text/plain": [
       "'75,000원'"
      ]
     },
     "execution_count": 6,
     "metadata": {},
     "output_type": "execute_result"
    }
   ],
   "source": [
    "# price\n",
    "\n",
    "items[0].find_element(By.CSS_SELECTOR, '.amount').text"
   ]
  },
  {
   "cell_type": "code",
   "execution_count": 7,
   "id": "80319288-9aae-49fc-8310-7eb62099e255",
   "metadata": {
    "tags": []
   },
   "outputs": [
    {
     "data": {
      "text/plain": [
       "'https://kream.co.kr/products/138107'"
      ]
     },
     "execution_count": 7,
     "metadata": {},
     "output_type": "execute_result"
    }
   ],
   "source": [
    "# link\n",
    "\n",
    "items[0].find_element(By.CSS_SELECTOR, '.item_inner').get_attribute('href')"
   ]
  },
  {
   "cell_type": "code",
   "execution_count": 8,
   "id": "06621fff-bceb-4ec3-a6c1-96fae305f581",
   "metadata": {
    "tags": []
   },
   "outputs": [
    {
     "data": {
      "text/plain": [
       "100"
      ]
     },
     "execution_count": 8,
     "metadata": {},
     "output_type": "execute_result"
    }
   ],
   "source": [
    "data_list = []\n",
    "for item in items:\n",
    "    data = {\n",
    "        'brand' : item.find_element(By.CSS_SELECTOR, '.brand').text,\n",
    "        'name' : item.find_element(By.CSS_SELECTOR, '.translated_name').text,\n",
    "        'price' : item.find_element(By.CSS_SELECTOR, '.amount').text,\n",
    "        'link' : item.find_element(By.CSS_SELECTOR, '.item_inner').get_attribute('href')\n",
    "    }\n",
    "    data_list.append(data)\n",
    "len(data_list)"
   ]
  },
  {
   "cell_type": "code",
   "execution_count": 9,
   "id": "f9c341c6-a713-4e45-994f-11ed37c34169",
   "metadata": {
    "tags": []
   },
   "outputs": [
    {
     "data": {
      "text/html": [
       "<div>\n",
       "<style scoped>\n",
       "    .dataframe tbody tr th:only-of-type {\n",
       "        vertical-align: middle;\n",
       "    }\n",
       "\n",
       "    .dataframe tbody tr th {\n",
       "        vertical-align: top;\n",
       "    }\n",
       "\n",
       "    .dataframe thead th {\n",
       "        text-align: right;\n",
       "    }\n",
       "</style>\n",
       "<table border=\"1\" class=\"dataframe\">\n",
       "  <thead>\n",
       "    <tr style=\"text-align: right;\">\n",
       "      <th></th>\n",
       "      <th>brand</th>\n",
       "      <th>name</th>\n",
       "      <th>price</th>\n",
       "      <th>link</th>\n",
       "    </tr>\n",
       "  </thead>\n",
       "  <tbody>\n",
       "    <tr>\n",
       "      <th>95</th>\n",
       "      <td>Adidas</td>\n",
       "      <td>(W) 아디다스 삼바 2.0 화이트 블랙</td>\n",
       "      <td>120,000원</td>\n",
       "      <td>https://kream.co.kr/products/206329</td>\n",
       "    </tr>\n",
       "    <tr>\n",
       "      <th>96</th>\n",
       "      <td>Nike</td>\n",
       "      <td>(W) 나이키 P-6000 레이저 블루</td>\n",
       "      <td>124,000원</td>\n",
       "      <td>https://kream.co.kr/products/20379</td>\n",
       "    </tr>\n",
       "    <tr>\n",
       "      <th>97</th>\n",
       "      <td>Nike</td>\n",
       "      <td>(W) 나이키 코르테즈 세일 카카오 와우</td>\n",
       "      <td>126,000원</td>\n",
       "      <td>https://kream.co.kr/products/178268</td>\n",
       "    </tr>\n",
       "    <tr>\n",
       "      <th>98</th>\n",
       "      <td>New Balance</td>\n",
       "      <td>(W) 뉴발란스 327 화이트 문빔</td>\n",
       "      <td>86,000원</td>\n",
       "      <td>https://kream.co.kr/products/24677</td>\n",
       "    </tr>\n",
       "    <tr>\n",
       "      <th>99</th>\n",
       "      <td>Nike</td>\n",
       "      <td>(W) 나이키 코르테즈 빈티지 블랙 세일</td>\n",
       "      <td>130,000원</td>\n",
       "      <td>https://kream.co.kr/products/230584</td>\n",
       "    </tr>\n",
       "  </tbody>\n",
       "</table>\n",
       "</div>"
      ],
      "text/plain": [
       "          brand                    name     price  \\\n",
       "95       Adidas  (W) 아디다스 삼바 2.0 화이트 블랙  120,000원   \n",
       "96         Nike   (W) 나이키 P-6000 레이저 블루  124,000원   \n",
       "97         Nike  (W) 나이키 코르테즈 세일 카카오 와우  126,000원   \n",
       "98  New Balance     (W) 뉴발란스 327 화이트 문빔   86,000원   \n",
       "99         Nike  (W) 나이키 코르테즈 빈티지 블랙 세일  130,000원   \n",
       "\n",
       "                                   link  \n",
       "95  https://kream.co.kr/products/206329  \n",
       "96   https://kream.co.kr/products/20379  \n",
       "97  https://kream.co.kr/products/178268  \n",
       "98   https://kream.co.kr/products/24677  \n",
       "99  https://kream.co.kr/products/230584  "
      ]
     },
     "execution_count": 9,
     "metadata": {},
     "output_type": "execute_result"
    }
   ],
   "source": [
    "df = pd.DataFrame(data_list)\n",
    "df.tail()"
   ]
  },
  {
   "cell_type": "code",
   "execution_count": 10,
   "id": "1287f827-ad61-4c55-b971-bfafe5550c95",
   "metadata": {
    "tags": []
   },
   "outputs": [],
   "source": [
    "driver.quit()"
   ]
  }
 ],
 "metadata": {
  "kernelspec": {
   "display_name": "Python 3 (ipykernel)",
   "language": "python",
   "name": "python3"
  },
  "language_info": {
   "codemirror_mode": {
    "name": "ipython",
    "version": 3
   },
   "file_extension": ".py",
   "mimetype": "text/x-python",
   "name": "python",
   "nbconvert_exporter": "python",
   "pygments_lexer": "ipython3",
   "version": "3.11.5"
  }
 },
 "nbformat": 4,
 "nbformat_minor": 5
}
