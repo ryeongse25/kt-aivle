{
 "cells": [
  {
   "cell_type": "markdown",
   "id": "c800829d-9cf1-4840-a69b-6c851f6a635a",
   "metadata": {},
   "source": [
    "## KREAM 여성 신발 인기 순위 TOP 100"
   ]
  },
  {
   "cell_type": "code",
   "execution_count": 12,
   "id": "15f47b57-03df-441e-8be5-4b403aaa0c04",
   "metadata": {
    "tags": []
   },
   "outputs": [],
   "source": [
    "import pandas as pd\n",
    "import requests\n",
    "from bs4 import BeautifulSoup"
   ]
  },
  {
   "cell_type": "code",
   "execution_count": 2,
   "id": "495888a2-0c73-44a3-9891-d346fc118a5b",
   "metadata": {
    "tags": []
   },
   "outputs": [
    {
     "data": {
      "text/plain": [
       "<Response [200]>"
      ]
     },
     "execution_count": 2,
     "metadata": {},
     "output_type": "execute_result"
    }
   ],
   "source": [
    "# 1 - 19\n",
    "url = 'https://kream.co.kr/exhibitions/2488'\n",
    "\n",
    "headers = {\n",
    "    'User-Agent' : 'Mozilla/5.0 (Windows NT 10.0; Win64; x64) AppleWebKit/537.36 (KHTML, like Gecko) Chrome/122.0.0.0 Safari/537.36'\n",
    "}\n",
    "\n",
    "response = requests.get(url, headers = headers)\n",
    "response"
   ]
  },
  {
   "cell_type": "code",
   "execution_count": 3,
   "id": "df0ca455-8cd4-4018-93e9-c1d57e648b3c",
   "metadata": {
    "tags": []
   },
   "outputs": [
    {
     "data": {
      "text/plain": [
       "'<!doctype html>\\n<html data-n-head-ssr lang=\"ko\" data-n-head=\"%7B%22lang%22:%7B%22ssr%22:%22ko%22%7D%7D\">\\n  <head >\\n    <meta data-n-head=\"ssr\" charset=\"utf-8\"><meta data-n-head=\"ssr\" data-hid=\"viewport\" name=\"viewport\" content=\"width=device-width, initial-scale=1.0, maximum-scale=1.0, minimum-scale=1.0, user-scalable=no, viewport-fit=cover\"><meta data-n-head=\"ssr\" name=\"apple-mobile-web-app-title\" content=\"KREAM\"><meta data-n-head=\"ssr\" name=\"application-name\" content=\"KREAM\"><meta data-n-head=\"ssr\" name=\"msapplication-TileColor\" content=\"#111111\"><meta data-n-head=\"ssr\" name=\"theme-color\" content=\"#ffffff\"><meta data-n-head=\"ssr\" name=\"msapplication-config\" content=\"/browserconfig.xml\"><meta data-n-head=\"ssr\" data-hid=\"google-site-verification\" name=\"google-site-verification\" content=\"n9xvZpoumVa_cedth9bLo1fgwQfIoGkw0Jmkray34FM\"><meta data-n-head=\"ssr\" data-hid=\"naver-site-verification\" name=\"naver-site-verification\" property=\"naver-site-verification\" content=\"ecf6ec0ed503754fbcec5f8c'"
      ]
     },
     "execution_count": 3,
     "metadata": {},
     "output_type": "execute_result"
    }
   ],
   "source": [
    "response.text[:1000]"
   ]
  },
  {
   "cell_type": "code",
   "execution_count": 4,
   "id": "ecb4eda4-c56c-45db-86d4-4ec6176d9943",
   "metadata": {
    "tags": []
   },
   "outputs": [],
   "source": [
    "dom = BeautifulSoup(response.text, 'html.parser')"
   ]
  },
  {
   "cell_type": "code",
   "execution_count": 6,
   "id": "a8488120-60b4-4f62-b4d6-741841b32da1",
   "metadata": {
    "tags": []
   },
   "outputs": [
    {
     "data": {
      "text/plain": [
       "19"
      ]
     },
     "execution_count": 6,
     "metadata": {},
     "output_type": "execute_result"
    }
   ],
   "source": [
    "elements = dom.select('.product_card')\n",
    "len(elements)"
   ]
  },
  {
   "cell_type": "code",
   "execution_count": 20,
   "id": "31e98ae1-4e4b-4ce7-9b36-410d1e3b25d9",
   "metadata": {
    "tags": []
   },
   "outputs": [
    {
     "data": {
      "text/plain": [
       "<div class=\"product_card exhibition_product\" data-v-5cd5fade=\"\" data-v-6631aee6=\"\"><a class=\"item_inner\" data-v-5cd5fade=\"\" href=\"/products/138107\"><div class=\"product\" data-v-6805fc8a=\"\" style=\"background-color:#f1f1ea;\"><div class=\"product_inner_tag display_tag_item\" data-v-17ca498c=\"\" data-v-6805fc8a=\"\" style=\"background-color:#222222;color:#FFFFFF;\"><!-- --><span class=\"tag_text\" data-v-17ca498c=\"\"> 1 </span></div><picture class=\"picture product_img\" data-v-6805fc8a=\"\" data-v-82b93d2c=\"\"><source data-v-82b93d2c=\"\" srcset=\"https://kream-phinf.pstatic.net/MjAyMzA2MjBfMTA5/MDAxNjg3MjUxODcyMDU5.JzQ5HW3_gzE_3VuuczBWxAe5RNbBuvYxxFlwKrfJUsEg.GPdhwU0du4U0UqMtnaLJBB4ul6VMtzHwh19WnL4UwSEg.PNG/a_fcf0c2b1c5d24edb9f2f041bbd9faab0.png?type=m_webp\" type=\"image/webp\"/><source data-v-82b93d2c=\"\" srcset=\"https://kream-phinf.pstatic.net/MjAyMzA2MjBfMTA5/MDAxNjg3MjUxODcyMDU5.JzQ5HW3_gzE_3VuuczBWxAe5RNbBuvYxxFlwKrfJUsEg.GPdhwU0du4U0UqMtnaLJBB4ul6VMtzHwh19WnL4UwSEg.PNG/a_fcf0c2b1c5d24edb9f2f041bbd9faab0.png?type=m\"/><img alt=\"(W) 아디다스 포럼 로우 클라우드 화이트 팬톤\" class=\"image full_width\" data-v-82b93d2c=\"\" loading=\"lazy\" src=\"https://kream-phinf.pstatic.net/MjAyMzA2MjBfMTA5/MDAxNjg3MjUxODcyMDU5.JzQ5HW3_gzE_3VuuczBWxAe5RNbBuvYxxFlwKrfJUsEg.GPdhwU0du4U0UqMtnaLJBB4ul6VMtzHwh19WnL4UwSEg.PNG/a_fcf0c2b1c5d24edb9f2f041bbd9faab0.png?type=m\"/></picture><div class=\"status_value\" data-v-6805fc8a=\"\"> 거래 12 </div><!-- --><!-- --></div><div class=\"product_info_area\" data-v-beb706f6=\"\"><div class=\"title\" data-v-beb706f6=\"\"><p class=\"product_info_brand brand\" data-v-878934fe=\"\" data-v-beb706f6=\"\"> Adidas <!-- --></p><div class=\"product_info_product_name\" data-v-02c37783=\"\" data-v-beb706f6=\"\"><p class=\"name\" data-v-02c37783=\"\">(W) Adidas Forum Low Cloud White Pantone</p><p class=\"translated_name\" data-v-02c37783=\"\">(W) 아디다스 포럼 로우 클라우드 화이트 팬톤</p></div></div><div class=\"tags\" data-v-6726b5bd=\"\" data-v-beb706f6=\"\"></div></div><div class=\"price price_area\" data-v-39e914f0=\"\" data-v-ef71e3ac=\"\"><p class=\"amount\" data-v-ef71e3ac=\"\"><!-- --> 75,000원 </p><p class=\"desc\" data-v-ef71e3ac=\"\">즉시 구매가</p></div></a><div class=\"action_wish_review\" data-v-f873d5b4=\"\"><span class=\"wish_figure\" data-v-f873d5b4=\"\"><span aria-label=\"관심상품\" class=\"btn_wish\" data-v-4382eb99=\"\" data-v-f873d5b4=\"\" icon-name=\"ico-wish-grey\" role=\"button\"><svg class=\"icon sprite-icons\" data-v-4382eb99=\"\" data-v-f873d5b4=\"\" height=\"16\" width=\"14\" xmlns=\"http://www.w3.org/2000/svg\"><use data-v-4382eb99=\"\" data-v-f873d5b4=\"\" href=\"/_nuxt/67872892ef7ba9fb6348e737f4b3e6da.svg#i-ico-wish-grey-off\" xlink:href=\"/_nuxt/67872892ef7ba9fb6348e737f4b3e6da.svg#i-ico-wish-grey-off\"></use></svg></span><span class=\"text\" data-v-f873d5b4=\"\">329</span></span><span class=\"review_figure\" data-v-f873d5b4=\"\"><span aria-label=\"(W) 아디다스 포럼 로우 클라우드 화이트 팬톤 리뷰\" class=\"review_link\" data-v-f873d5b4=\"\" role=\"button\"><svg class=\"icon sprite-icons\" data-v-f873d5b4=\"\" height=\"15\" width=\"15\" xmlns=\"http://www.w3.org/2000/svg\"><use data-v-f873d5b4=\"\" href=\"/_nuxt/67872892ef7ba9fb6348e737f4b3e6da.svg#i-ico-review-grey\" xlink:href=\"/_nuxt/67872892ef7ba9fb6348e737f4b3e6da.svg#i-ico-review-grey\"></use></svg></span><span class=\"text\" data-v-f873d5b4=\"\">1</span></span></div></div>"
      ]
     },
     "execution_count": 20,
     "metadata": {},
     "output_type": "execute_result"
    }
   ],
   "source": [
    "elements[0]"
   ]
  },
  {
   "cell_type": "code",
   "execution_count": 7,
   "id": "79b68b29-f35c-4fdb-9575-b540b8912f7a",
   "metadata": {
    "tags": []
   },
   "outputs": [
    {
     "data": {
      "text/plain": [
       "<Response [200]>"
      ]
     },
     "execution_count": 7,
     "metadata": {},
     "output_type": "execute_result"
    }
   ],
   "source": [
    "# 20 - 39\n",
    "url = 'https://kream.co.kr/api/e/exhibitions/2488/?cursor=2&request_key=678ce906-fdcd-4346-ba8d-1330b8202479'\n",
    "\n",
    "headers = {\n",
    "    'User-Agent' : 'Mozilla/5.0 (Windows NT 10.0; Win64; x64) AppleWebKit/537.36 (KHTML, like Gecko) Chrome/122.0.0.0 Safari/537.36',\n",
    "    'X-Kream-Device-Id' : 'web;727d42bc-f999-43fd-a4db-5fd9b43b8aaf',\n",
    "}\n",
    "\n",
    "response = requests.get(url, headers = headers)\n",
    "response"
   ]
  },
  {
   "cell_type": "code",
   "execution_count": 24,
   "id": "7a6dfa30-b491-4969-b6db-5925491d1ec3",
   "metadata": {
    "tags": []
   },
   "outputs": [
    {
     "data": {
      "text/plain": [
       "{'item_type': 'product',\n",
       " 'product_id': 128825,\n",
       " 'product': {'release': {'id': 128825,\n",
       "   'name': '(W) Adidas Adimatic Earth Strata Dark Brown',\n",
       "   'translated_name': '(W) 아디다스 아디매틱 어스 스트라타 다크 브라운',\n",
       "   'category': 'sneakers',\n",
       "   'image_urls': ['https://kream-phinf.pstatic.net/MjAyMzA1MjRfMTUg/MDAxNjg0OTIxNDQzMzA5.00hJUYIn8B3mw43XWSCwaYu2y6wfzNExxzVzn320rzcg.mHQvTR8Sv0l0kjtnip59b1kO_S6bFh9uUBunnWp85b0g.PNG/a_80f5a01e75164c59a26921ab5adf81ea.png'],\n",
       "   'original_price': 139000,\n",
       "   'original_price_currency': 'KRW',\n",
       "   'local_price': None,\n",
       "   'local_price_currency': 'KRW',\n",
       "   'original_price_with_currency': '139,000원',\n",
       "   'local_price_with_currency': None,\n",
       "   'style_code': 'IE7363',\n",
       "   'colorway': 'Earth Strata/Dark Brown',\n",
       "   'date_released': '2023-05-23T00:00:00Z',\n",
       "   'gender': 'women',\n",
       "   'bgcolor': '#f1f1ea',\n",
       "   'is_active': True,\n",
       "   'is_tradable': True,\n",
       "   'is_for_adult': False,\n",
       "   'shop_category_id': 1,\n",
       "   'shop_category_name': '신발 > 스니커즈',\n",
       "   'is_displayable': True},\n",
       "  'market': {'market_price': 99000.0,\n",
       "   'last_sale_price': 99000.0,\n",
       "   'lowest_ask': 96000.0,\n",
       "   'highest_bid': 128000.0,\n",
       "   'total_sales': 623,\n",
       "   'change_value': 0.0,\n",
       "   'change_percentage': 0.0,\n",
       "   'pricepremium': -40000.0,\n",
       "   'pricepremium_percentage': -28.777,\n",
       "   'has_immediate_delivery_item': True,\n",
       "   'inventory_service_available': True},\n",
       "  'me': {'wish': False, 'wish_options': [], 'wish_product_options': []},\n",
       "  'brand': {'id': 1, 'name': 'Adidas', 'type': 'brand'},\n",
       "  'options': ['220',\n",
       "   '225',\n",
       "   '230',\n",
       "   '235',\n",
       "   '240',\n",
       "   '245',\n",
       "   '250',\n",
       "   '255',\n",
       "   '260',\n",
       "   '265',\n",
       "   '270',\n",
       "   '275',\n",
       "   '280',\n",
       "   '285',\n",
       "   '290',\n",
       "   '295',\n",
       "   '300'],\n",
       "  'product_options': [{'id': 2922948,\n",
       "    'product_id': 128825,\n",
       "    'key': '220',\n",
       "    'name': '220',\n",
       "    'name_display': 'W220',\n",
       "    'display_order': 0},\n",
       "   {'id': 2922949,\n",
       "    'product_id': 128825,\n",
       "    'key': '225',\n",
       "    'name': '225',\n",
       "    'name_display': 'W225',\n",
       "    'display_order': 1},\n",
       "   {'id': 2922950,\n",
       "    'product_id': 128825,\n",
       "    'key': '230',\n",
       "    'name': '230',\n",
       "    'name_display': 'W230',\n",
       "    'display_order': 2},\n",
       "   {'id': 2922951,\n",
       "    'product_id': 128825,\n",
       "    'key': '235',\n",
       "    'name': '235',\n",
       "    'name_display': 'W235',\n",
       "    'display_order': 3},\n",
       "   {'id': 2922952,\n",
       "    'product_id': 128825,\n",
       "    'key': '240',\n",
       "    'name': '240',\n",
       "    'name_display': 'W240',\n",
       "    'display_order': 4},\n",
       "   {'id': 2922953,\n",
       "    'product_id': 128825,\n",
       "    'key': '245',\n",
       "    'name': '245',\n",
       "    'name_display': 'W245',\n",
       "    'display_order': 5},\n",
       "   {'id': 2922954,\n",
       "    'product_id': 128825,\n",
       "    'key': '250',\n",
       "    'name': '250',\n",
       "    'name_display': 'W250',\n",
       "    'display_order': 6},\n",
       "   {'id': 2922955,\n",
       "    'product_id': 128825,\n",
       "    'key': '255',\n",
       "    'name': '255',\n",
       "    'name_display': 'W255',\n",
       "    'display_order': 7},\n",
       "   {'id': 2922956,\n",
       "    'product_id': 128825,\n",
       "    'key': '260',\n",
       "    'name': '260',\n",
       "    'name_display': 'W260',\n",
       "    'display_order': 8},\n",
       "   {'id': 2922957,\n",
       "    'product_id': 128825,\n",
       "    'key': '265',\n",
       "    'name': '265',\n",
       "    'name_display': 'W265',\n",
       "    'display_order': 9},\n",
       "   {'id': 2922958,\n",
       "    'product_id': 128825,\n",
       "    'key': '270',\n",
       "    'name': '270',\n",
       "    'name_display': 'W270',\n",
       "    'display_order': 10},\n",
       "   {'id': 2922959,\n",
       "    'product_id': 128825,\n",
       "    'key': '275',\n",
       "    'name': '275',\n",
       "    'name_display': 'W275',\n",
       "    'display_order': 11},\n",
       "   {'id': 2922960,\n",
       "    'product_id': 128825,\n",
       "    'key': '280',\n",
       "    'name': '280',\n",
       "    'name_display': 'W280',\n",
       "    'display_order': 12},\n",
       "   {'id': 2922961,\n",
       "    'product_id': 128825,\n",
       "    'key': '285',\n",
       "    'name': '285',\n",
       "    'name_display': 'W285',\n",
       "    'display_order': 13},\n",
       "   {'id': 2922962,\n",
       "    'product_id': 128825,\n",
       "    'key': '290',\n",
       "    'name': '290',\n",
       "    'name_display': 'W290',\n",
       "    'display_order': 14},\n",
       "   {'id': 2922963,\n",
       "    'product_id': 128825,\n",
       "    'key': '295',\n",
       "    'name': '295',\n",
       "    'name_display': 'W295',\n",
       "    'display_order': 15},\n",
       "   {'id': 2922964,\n",
       "    'product_id': 128825,\n",
       "    'key': '300',\n",
       "    'name': '300',\n",
       "    'name_display': 'W300',\n",
       "    'display_order': 16}],\n",
       "  'selected_option': None,\n",
       "  'product_option': None,\n",
       "  'event': None,\n",
       "  'exclusive': None,\n",
       "  'counter': {'wish_count': 5840, 'have_count': 0, 'review_count': 48},\n",
       "  'additional_info': {'is_wishable': True},\n",
       "  'sale_info': None,\n",
       "  'badge': {'tags': [{'tag': '빠른배송',\n",
       "     'tag_color': '#31B46E',\n",
       "     'border_color': None,\n",
       "     'background_color': '#F2F9F6',\n",
       "     'icon_url': 'https://kream-phinf.pstatic.net/MjAyMjA4MTlfMjQg/MDAxNjYwODg3Mjk2NzI3.BrA9HdxKlK4SE_Nv8rSN-enO_kgRJJbWNRSn88dwX-sg.HSU5wh9arezj6oeAUj0Ju3e_Atzp4i9BNdZxeHeaw4sg.PNG/a_82699e0f38f24003897bcfc6ee5c84eb.png'}]}},\n",
       " 'tag': {'tag': '20',\n",
       "  'tag_color': '#FFFFFF',\n",
       "  'border_color': None,\n",
       "  'background_color': '#646A76',\n",
       "  'icon_url': None},\n",
       " 'product_header': None,\n",
       " 'image': None,\n",
       " 'video': None,\n",
       " 'youtube': None,\n",
       " 'warning': None,\n",
       " 'exhibition': None,\n",
       " 'tab': None}"
      ]
     },
     "execution_count": 24,
     "metadata": {},
     "output_type": "execute_result"
    }
   ],
   "source": [
    "json = response.json()['items']\n",
    "json[0]"
   ]
  },
  {
   "cell_type": "code",
   "execution_count": 26,
   "id": "15abf62b-eb09-4181-aba2-faf6cabcf7a8",
   "metadata": {
    "tags": []
   },
   "outputs": [
    {
     "data": {
      "text/plain": [
       "0    {'release': {'id': 128825, 'name': '(W) Adidas...\n",
       "1    {'release': {'id': 65908, 'name': '(W) Nike Ai...\n",
       "2    {'release': {'id': 214182, 'name': '(W) Puma P...\n",
       "3    {'release': {'id': 88078, 'name': '(W) Jordan ...\n",
       "4    {'release': {'id': 163261, 'name': '(W) Adidas...\n",
       "Name: product, dtype: object"
      ]
     },
     "execution_count": 26,
     "metadata": {},
     "output_type": "execute_result"
    }
   ],
   "source": [
    "df = pd.DataFrame(json)['product']\n",
    "df.head()"
   ]
  },
  {
   "cell_type": "code",
   "execution_count": 39,
   "id": "7af02d6c-5f8c-49ec-a3de-7521de29fb6b",
   "metadata": {
    "tags": []
   },
   "outputs": [
    {
     "data": {
      "text/plain": [
       "<Response [200]>"
      ]
     },
     "execution_count": 39,
     "metadata": {},
     "output_type": "execute_result"
    }
   ],
   "source": [
    "# 40 - 59\n",
    "url = 'https://kream.co.kr/api/e/exhibitions/2488/?cursor=3&request_key=8726885f-e0ff-4afa-8589-5d818fec9876'\n",
    "\n",
    "headers = {\n",
    "    'User-Agent' : 'Mozilla/5.0 (Windows NT 10.0; Win64; x64) AppleWebKit/537.36 (KHTML, like Gecko) Chrome/122.0.0.0 Safari/537.36',\n",
    "    'X-Kream-Device-Id' : 'web;727d42bc-f999-43fd-a4db-5fd9b43b8aaf',\n",
    "}\n",
    "\n",
    "response = requests.get(url, headers = headers)\n",
    "response"
   ]
  },
  {
   "cell_type": "code",
   "execution_count": 40,
   "id": "08280804-f068-4392-a43c-4f1a7211a7f5",
   "metadata": {
    "tags": []
   },
   "outputs": [
    {
     "data": {
      "text/plain": [
       "'{\"cursor\": \"3\", \"per_page\": 20, \"next_cursor\": \"4\", \"prev_cursor\": \"2\", \"total\": 101, \"sort\": null, \"list_display_type\": \"A\", \"filters\": null, \"items\": [{\"item_type\": \"product\", \"product_id\": 246011, \"product\": {\"release\": {\"id\": 246011, \"name\": \"(W) Adidas Gazelle Bold Grey Six Magic Beige\", \"translated_name\": \"(W) \\\\uc544\\\\ub514\\\\ub2e4\\\\uc2a4 \\\\uac00\\\\uc824 \\\\ubcfc\\\\ub4dc \\\\uadf8\\\\ub808\\\\uc774 \\\\uc2dd\\\\uc2a4 \\\\ub9e4\\\\uc9c1 \\\\ubca0\\\\uc774\\\\uc9c0\", \"category\": \"sneakers\", \"image_urls\": [\"https://kream-phinf.pstatic.net/MjAyNDAyMjJfMTkw/MDAxNzA4NTg4NDEwNzIw.15VaPGf1jCdNpptu7YUZl9rU4PmlFeAeqw5U4kNwPjgg.MzmODMPHo4U5E0wjkaC_8poHexkMNFe26FXKBNy_dYsg.PNG/a_1f2b2dcfd3174ee29b92338f2fd1291e.png\"], \"original_price\": 139000, \"original_price_currency\": \"KRW\", \"local_price\": null, \"local_price_currency\": \"KRW\", \"original_price_with_currency\": \"139,000\\\\uc6d0\", \"local_price_with_currency\": null, \"style_code\": \"IE0428\", \"colorway\": \"Grey Six/Magic Beige/Cream White\", \"date_released\": null, \"gender\": \"women\", \"bgcolor\"'"
      ]
     },
     "execution_count": 40,
     "metadata": {},
     "output_type": "execute_result"
    }
   ],
   "source": [
    "response.text[:1000]"
   ]
  },
  {
   "cell_type": "code",
   "execution_count": 41,
   "id": "f99ed9a0-8057-4cee-a538-97ab4896eadc",
   "metadata": {
    "tags": []
   },
   "outputs": [
    {
     "data": {
      "text/plain": [
       "<Response [200]>"
      ]
     },
     "execution_count": 41,
     "metadata": {},
     "output_type": "execute_result"
    }
   ],
   "source": [
    "# 60 - 79\n",
    "url = 'https://kream.co.kr/api/e/exhibitions/2488/?cursor=4&request_key=b25a1fa7-42b7-4fae-bc75-cbf4ff019200'\n",
    "\n",
    "headers = {\n",
    "    'User-Agent' : 'Mozilla/5.0 (Windows NT 10.0; Win64; x64) AppleWebKit/537.36 (KHTML, like Gecko) Chrome/122.0.0.0 Safari/537.36',\n",
    "    'X-Kream-Device-Id' : 'web;727d42bc-f999-43fd-a4db-5fd9b43b8aaf',\n",
    "}\n",
    "\n",
    "response = requests.get(url, headers = headers)\n",
    "response"
   ]
  },
  {
   "cell_type": "code",
   "execution_count": 42,
   "id": "a6789d77-b88d-4e58-b281-2bad5e46ab0b",
   "metadata": {
    "tags": []
   },
   "outputs": [
    {
     "data": {
      "text/plain": [
       "'{\"cursor\": \"4\", \"per_page\": 20, \"next_cursor\": \"5\", \"prev_cursor\": \"3\", \"total\": 101, \"sort\": null, \"list_display_type\": \"A\", \"filters\": null, \"items\": [{\"item_type\": \"product\", \"product_id\": 83153, \"product\": {\"release\": {\"id\": 83153, \"name\": \"(W) Nike Air Max 97 OG Silver Bullet 2022\", \"translated_name\": \"(W) \\\\ub098\\\\uc774\\\\ud0a4 \\\\uc5d0\\\\uc5b4\\\\ub9e5\\\\uc2a4 97 OG \\\\uc2e4\\\\ubc84\\\\ubd88\\\\ub81b 2022\", \"category\": \"sneakers\", \"image_urls\": [\"https://kream-phinf.pstatic.net/MjAyMjEwMzFfMzYg/MDAxNjY3MTgzOTM1Nzg2.KAy8pZSgWkM4CpjljH81j4ShRNZaq4SZBoUTF-VEYqAg.LI6Z5jo5kKGu9DTL414jvvWtljXKt-95m6_p_v9_maQg.PNG/a_db55cbb676324461b12a125fb04561d5.png\"], \"original_price\": 219000, \"original_price_currency\": \"KRW\", \"local_price\": null, \"local_price_currency\": \"KRW\", \"original_price_with_currency\": \"219,000\\\\uc6d0\", \"local_price_with_currency\": null, \"style_code\": \"DQ9131-002\", \"colorway\": \"Metallic Silver/Varsity Red/Black/White\", \"date_released\": \"2022-11-11T00:00:00Z\", \"gender\": \"women\", \"bgcolor\": \"#ebf0f5\"'"
      ]
     },
     "execution_count": 42,
     "metadata": {},
     "output_type": "execute_result"
    }
   ],
   "source": [
    "response.text[:1000]"
   ]
  },
  {
   "cell_type": "code",
   "execution_count": 43,
   "id": "60999889-96f6-436c-8fb5-e0ee466bd76e",
   "metadata": {
    "tags": []
   },
   "outputs": [
    {
     "data": {
      "text/plain": [
       "<Response [200]>"
      ]
     },
     "execution_count": 43,
     "metadata": {},
     "output_type": "execute_result"
    }
   ],
   "source": [
    "# 80 - 99\n",
    "url = 'https://kream.co.kr/api/e/exhibitions/2488/?cursor=5&request_key=a01ffacf-ac25-4a9b-9cf5-b75c86388372'\n",
    "\n",
    "headers = {\n",
    "    'User-Agent' : 'Mozilla/5.0 (Windows NT 10.0; Win64; x64) AppleWebKit/537.36 (KHTML, like Gecko) Chrome/122.0.0.0 Safari/537.36',\n",
    "    'X-Kream-Device-Id' : 'web;727d42bc-f999-43fd-a4db-5fd9b43b8aaf',\n",
    "}\n",
    "\n",
    "response = requests.get(url, headers = headers)\n",
    "response"
   ]
  },
  {
   "cell_type": "code",
   "execution_count": 45,
   "id": "b562d20f-f3fa-42d0-bd24-1339ab1832a3",
   "metadata": {
    "tags": []
   },
   "outputs": [
    {
     "data": {
      "text/plain": [
       "'{\"cursor\": \"5\", \"per_page\": 20, \"next_cursor\": \"6\", \"prev_cursor\": \"4\", \"total\": 101, \"sort\": null, \"list_display_type\": \"A\", \"filters\": null, \"items\": [{\"item_type\": \"product\", \"product_id\": 54986, \"product\": {\"release\": {\"id\": 54986, \"name\": \"(W) Nike Dunk Low Rose Whisper\", \"translated_name\": \"(W) \\\\ub098\\\\uc774\\\\ud0a4 \\\\ub369\\\\ud06c \\\\ub85c\\\\uc6b0 \\\\ub85c\\\\uc988 \\\\uc704\\\\uc2a4\\\\ud37c\", \"category\": \"sneakers\", \"image_urls\": [\"https://kream-phinf.pstatic.net/MjAyMjAzMThfMjI2/MDAxNjQ3NTg1NTQ5NDk5.2hy5PjtR-9kPZrCyRVvgUbyR7tMX-y6TRHEUpXUADhcg.wOZeUAa17MICHdDPGn2tIYTuPiO5KT8NaJApcMytfL8g.PNG/a_3f529a014360447da5115a1b271e3aec.png\", \"https://kream-phinf.pstatic.net/MjAyMjAzMThfMTMx/MDAxNjQ3NTg1NTQ5NTgy.DfCIAnjwnDXDiDz8dIa6zmZwdC57xEQYt1c3vl2RheQg.vHFKn_aF20sPP_vXoIgOcDCi8IhkaCnk3biKnMqYKGMg.PNG/a_5d9595d80e0c4c7997bcd2a31cad186a.png\", \"https://kream-phinf.pstatic.net/MjAyMjAzMThfMjMg/MDAxNjQ3NTg1NTQ5NDg4.5BMJo03CR782QlAj3owjOu1L0FM3FDUk8CPy9PTRp3Qg.02BELhmy6wzzVT0kjsDMyQpuNkEiyfBaVP7MhX5IxQog.PNG/a_e'"
      ]
     },
     "execution_count": 45,
     "metadata": {},
     "output_type": "execute_result"
    }
   ],
   "source": [
    "response.text[:1000]"
   ]
  },
  {
   "cell_type": "code",
   "execution_count": 46,
   "id": "d25090e2-4d67-45a0-9d98-21b36c3815f3",
   "metadata": {
    "tags": []
   },
   "outputs": [
    {
     "data": {
      "text/plain": [
       "<Response [200]>"
      ]
     },
     "execution_count": 46,
     "metadata": {},
     "output_type": "execute_result"
    }
   ],
   "source": [
    "# 100\n",
    "url = 'https://kream.co.kr/api/e/exhibitions/2488/?cursor=6&request_key=d9d0976a-657e-4906-98e4-ccfdd4b9c03a'\n",
    "\n",
    "headers = {\n",
    "    'User-Agent' : 'Mozilla/5.0 (Windows NT 10.0; Win64; x64) AppleWebKit/537.36 (KHTML, like Gecko) Chrome/122.0.0.0 Safari/537.36',\n",
    "    'X-Kream-Device-Id' : 'web;727d42bc-f999-43fd-a4db-5fd9b43b8aaf',\n",
    "}\n",
    "\n",
    "response = requests.get(url, headers = headers)\n",
    "response"
   ]
  },
  {
   "cell_type": "code",
   "execution_count": 47,
   "id": "1b94fc58-e149-456d-980c-f74ed17fdbd2",
   "metadata": {
    "tags": []
   },
   "outputs": [
    {
     "data": {
      "text/plain": [
       "'{\"cursor\": \"6\", \"per_page\": 20, \"next_cursor\": null, \"prev_cursor\": \"5\", \"total\": 101, \"sort\": null, \"list_display_type\": \"A\", \"filters\": null, \"items\": [{\"item_type\": \"product\", \"product_id\": 22295, \"product\": {\"release\": {\"id\": 22295, \"name\": \"(W) Nike Air Force 1 Shadow Triple White\", \"translated_name\": \"(W) \\\\ub098\\\\uc774\\\\ud0a4 \\\\uc5d0\\\\uc5b4\\\\ud3ec\\\\uc2a4 1 \\\\uc250\\\\ub3c4\\\\uc6b0 \\\\ud2b8\\\\ub9ac\\\\ud50c \\\\ud654\\\\uc774\\\\ud2b8\", \"category\": \"sneakers\", \"image_urls\": [\"https://kream-phinf.pstatic.net/MjAyMDEwMjJfMjcx/MDAxNjAzMzMzOTc2NjU2.IvOkHk330Xp8C1VhENNtSW8wTvTLBB-FYdEVR_FiPSog.QSkcDHMoAJUCyhZhJqFDF_HtWueg3RONdVwcNbKfgp0g.PNG/p_22295_0_526ae13e59c9478e826ea503af3d3c8a.png\"], \"original_price\": 149000, \"original_price_currency\": \"KRW\", \"local_price\": null, \"local_price_currency\": \"KRW\", \"original_price_with_currency\": \"149,000\\\\uc6d0\", \"local_price_with_currency\": null, \"style_code\": \"CI0919-100\", \"colorway\": \"White/White-White\", \"date_released\": \"2019-10-03T23:59:59Z\", \"gender\": \"women\", \"bgcolor\": '"
      ]
     },
     "execution_count": 47,
     "metadata": {},
     "output_type": "execute_result"
    }
   ],
   "source": [
    "response.text[:1000]"
   ]
  }
 ],
 "metadata": {
  "kernelspec": {
   "display_name": "Python 3 (ipykernel)",
   "language": "python",
   "name": "python3"
  },
  "language_info": {
   "codemirror_mode": {
    "name": "ipython",
    "version": 3
   },
   "file_extension": ".py",
   "mimetype": "text/x-python",
   "name": "python",
   "nbconvert_exporter": "python",
   "pygments_lexer": "ipython3",
   "version": "3.11.5"
  }
 },
 "nbformat": 4,
 "nbformat_minor": 5
}
